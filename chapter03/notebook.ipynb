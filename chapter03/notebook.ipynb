{
 "cells": [
  {
   "cell_type": "markdown",
   "metadata": {},
   "source": [
    "# 3. プロンプトエンジニアリング\n"
   ]
  },
  {
   "cell_type": "code",
   "execution_count": null,
   "metadata": {},
   "outputs": [],
   "source": [
    "import os"
   ]
  },
  {
   "cell_type": "markdown",
   "metadata": {},
   "source": [
    "#### 【注意】既知のエラーについて\n",
    "\n",
    "openai パッケージが依存する httpx のアップデートにより、`openai==1.40.6` を使用する箇所で `TypeError: Client.__init__() got an unexpected keyword argument 'proxies'` というエラーが発生するようになりました。\n",
    "\n",
    "このエラーは、`!pip install httpx==0.27.2` のように、httpx の特定バージョンをインストールすることで回避することができます。\n",
    "\n",
    "なお、Google Colab で一度上記のエラーに遭遇したあとで `!pip install httpx==0.27.2` のようにパッケージをインストールし直した場合、以下のどちらかの操作を実施する必要があります。\n",
    "\n",
    "- Google Colab の「ランタイム」から「セッションを再起動する」を実行する\n",
    "- 「ランタイムを接続解除して削除」を実行してパッケージのインストールからやり直す\n"
   ]
  },
  {
   "cell_type": "code",
   "execution_count": null,
   "metadata": {},
   "outputs": [],
   "source": [
    "%pip install httpx==0.27.2"
   ]
  },
  {
   "cell_type": "markdown",
   "metadata": {},
   "source": [
    "## 3.2. プロンプトエンジニアリングとは\n"
   ]
  },
  {
   "cell_type": "code",
   "execution_count": null,
   "metadata": {},
   "outputs": [],
   "source": [
    "import boto3\n",
    "\n",
    "client = boto3.client(\"bedrock-runtime\")\n",
    "\n",
    "response = client.converse(\n",
    "    modelId=\"apac.anthropic.claude-3-haiku-20240307-v1:0\",\n",
    "    messages=[\n",
    "        {\n",
    "            \"role\": \"user\",\n",
    "            \"content\": [{\"text\": \"プロンプトエンジニアリングとは\"}],\n",
    "        }\n",
    "    ]\n",
    ")\n",
    "\n",
    "response_text = response[\"output\"][\"message\"][\"content\"][0][\"text\"]\n",
    "print(response_text)"
   ]
  },
  {
   "cell_type": "code",
   "execution_count": null,
   "metadata": {},
   "outputs": [],
   "source": [
    "import boto3\n",
    "\n",
    "client = boto3.client(\"bedrock-runtime\")\n",
    "\n",
    "response = client.converse(\n",
    "    modelId=\"apac.anthropic.claude-3-haiku-20240307-v1:0\",\n",
    "    system=[{\"text\": \"質問に100文字程度で答えてください。\"}],\n",
    "    messages=[\n",
    "        {\n",
    "            \"role\": \"user\",\n",
    "            \"content\": [{\"text\": \"プロンプトエンジニアリングとは\"}],\n",
    "        }\n",
    "    ]\n",
    ")\n",
    "\n",
    "response_text = response[\"output\"][\"message\"][\"content\"][0][\"text\"]\n",
    "print(response_text)"
   ]
  },
  {
   "cell_type": "markdown",
   "metadata": {},
   "source": [
    "## 3.3. プロンプトの構成要素の基本\n"
   ]
  },
  {
   "cell_type": "markdown",
   "metadata": {},
   "source": [
    "### プロンプトのテンプレート化\n"
   ]
  },
  {
   "cell_type": "code",
   "execution_count": null,
   "metadata": {},
   "outputs": [],
   "source": [
    "prompt = '''\\\n",
    "以下の料理のレシピを考えてください。\n",
    "\n",
    "料理名: \"\"\"\n",
    "{dish}\n",
    "\"\"\"\n",
    "'''\n",
    "\n",
    "\n",
    "def generate_recipe(dish: str) -> str:\n",
    "    response = client.converse(\n",
    "        modelId=\"apac.anthropic.claude-3-haiku-20240307-v1:0\",\n",
    "        messages=[\n",
    "            {\n",
    "                \"role\": \"user\",\n",
    "                \"content\": [{\"text\": prompt.format(dish=dish)}],\n",
    "            }\n",
    "        ]\n",
    "    )\n",
    "\n",
    "    response_text = response[\"output\"][\"message\"][\"content\"][0][\"text\"]\n",
    "    return response_text\n",
    "\n",
    "recipe = generate_recipe(\"カレー\")\n",
    "print(recipe)"
   ]
  },
  {
   "cell_type": "code",
   "execution_count": null,
   "metadata": {},
   "outputs": [],
   "source": [
    "prompt = \"\"\"\\\n",
    "ユーザーが入力した料理のレシピを考えてください。\n",
    "\n",
    "料理名: '''\n",
    "{dish}\n",
    "'''\n",
    "\"\"\"\n",
    "\n",
    "\n",
    "def generate_recipe(dish: str) -> str:\n",
    "    response = client.converse(\n",
    "        modelId=\"apac.anthropic.claude-3-haiku-20240307-v1:0\",\n",
    "        system=[{\"text\": \"ユーザーが入力した料理のレシピを考えてください。\"}],\n",
    "        messages=[\n",
    "            {\n",
    "                \"role\": \"user\",\n",
    "                \"content\": [{\"text\": f\"{dish}\"}],\n",
    "            }\n",
    "        ]\n",
    "    )\n",
    "\n",
    "    response_text = response[\"output\"][\"message\"][\"content\"][0][\"text\"]\n",
    "    return response_text\n",
    "\n",
    "recipe = generate_recipe(\"カレー\")\n",
    "print(recipe)"
   ]
  },
  {
   "cell_type": "markdown",
   "metadata": {},
   "source": [
    "### 出力形式を指定する\n"
   ]
  },
  {
   "cell_type": "code",
   "execution_count": null,
   "metadata": {},
   "outputs": [],
   "source": [
    "system_prompt = \"\"\"\\\n",
    "ユーザーが入力した料理のレシピを考えてください。\n",
    "\n",
    "出力は以下のJSON形式にしてください。\n",
    "\n",
    "```\n",
    "{\n",
    "  \"材料\": [\"材料1\", \"材料2\"],\n",
    "  \"手順\": [\"手順1\", \"手順2\"]\n",
    "}\n",
    "```\n",
    "\"\"\"\n",
    "\n",
    "response = client.converse(\n",
    "    modelId=\"apac.anthropic.claude-3-haiku-20240307-v1:0\",\n",
    "    system=[{\"text\": system_prompt}],\n",
    "    messages=[\n",
    "        {\n",
    "          \"role\": \"user\",\n",
    "          \"content\": [{\"text\": \"カレー\"}],\n",
    "        }\n",
    "    ]\n",
    ")\n",
    "\n",
    "response_text = response[\"output\"][\"message\"][\"content\"][0][\"text\"]\n",
    "print(response_text)"
   ]
  },
  {
   "cell_type": "markdown",
   "metadata": {},
   "source": [
    "## 3.4. プロンプトエンジニアリングの定番の手法\n"
   ]
  },
  {
   "cell_type": "markdown",
   "metadata": {},
   "source": [
    "### Zero-shot プロンプティング\n"
   ]
  },
  {
   "cell_type": "code",
   "execution_count": null,
   "metadata": {},
   "outputs": [],
   "source": [
    "response = client.converse(\n",
    "    modelId=\"apac.anthropic.claude-3-haiku-20240307-v1:0\",\n",
    "    system=[{\"text\": \"入力をポジティブ・ネガティブ・中立のどれかに分類してください。\"}],\n",
    "    messages=[\n",
    "        {\n",
    "            \"role\": \"user\",\n",
    "            \"content\": [{\"text\": \"ChatGPTはとても便利だ\"}],\n",
    "        }\n",
    "    ]\n",
    ")\n",
    "\n",
    "response_text = response[\"output\"][\"message\"][\"content\"][0][\"text\"]\n",
    "print(response_text)"
   ]
  },
  {
   "cell_type": "markdown",
   "metadata": {},
   "source": [
    "### Few-shot プロンプティング\n"
   ]
  },
  {
   "cell_type": "code",
   "execution_count": null,
   "metadata": {},
   "outputs": [],
   "source": [
    "response = client.converse(\n",
    "    modelId=\"apac.anthropic.claude-3-haiku-20240307-v1:0\",\n",
    "    system=[{\"text\": \"入力がAIに関係するか回答してください。\"}],\n",
    "    messages=[\n",
    "        {\n",
    "            \"role\": \"user\",\n",
    "            \"content\": [{\"text\": \"ChatGPTはとても便利だ\"}],\n",
    "        }\n",
    "    ]\n",
    ")\n",
    "\n",
    "response_text = response[\"output\"][\"message\"][\"content\"][0][\"text\"]\n",
    "print(response_text)"
   ]
  },
  {
   "cell_type": "code",
   "execution_count": null,
   "metadata": {},
   "outputs": [],
   "source": [
    "response = client.converse(\n",
    "    modelId=\"apac.anthropic.claude-3-haiku-20240307-v1:0\",\n",
    "    system=[{\"text\": \"入力がAIに関係するか回答してください。\"}],\n",
    "    messages=[\n",
    "        {\n",
    "            \"role\": \"user\",\n",
    "            \"content\": [{\"text\": \"AIの進化はすごい\"}],\n",
    "        },\n",
    "        {\n",
    "            \"role\": \"assistant\",\n",
    "            \"content\": [{\"text\": \"true\"}],\n",
    "        },\n",
    "        {\n",
    "            \"role\": \"user\",\n",
    "            \"content\": [{\"text\": \"今日は良い天気だ\"}],\n",
    "        },\n",
    "        {\n",
    "            \"role\": \"assistant\",\n",
    "            \"content\": [{\"text\": \"false\"}],\n",
    "        },\n",
    "        {\n",
    "            \"role\": \"user\",\n",
    "            \"content\": [{\"text\": \"ChatGPTはとても便利だ\"}],\n",
    "        },\n",
    "    ]\n",
    ")\n",
    "\n",
    "response_text = response[\"output\"][\"message\"][\"content\"][0][\"text\"]\n",
    "print(response_text)"
   ]
  },
  {
   "cell_type": "markdown",
   "metadata": {},
   "source": [
    "### （コラム）Few-shot プロンプティングのその他の形式\n"
   ]
  },
  {
   "cell_type": "code",
   "execution_count": null,
   "metadata": {},
   "outputs": [],
   "source": [
    "prompt = \"\"\"\\\n",
    "入力がAIに関係するか回答してください。\n",
    "\n",
    "Q: AIの進化はすごい\n",
    "A: true\n",
    "Q: 今日は良い天気だ\n",
    "A: false\n",
    "Q: ChatGPTはとても便利だ\n",
    "A: \n",
    "\"\"\"\n",
    "\n",
    "response = client.converse(\n",
    "    modelId=\"apac.anthropic.claude-3-haiku-20240307-v1:0\",\n",
    "    messages=[\n",
    "        {\n",
    "            \"role\": \"user\",\n",
    "            \"content\": [{\"text\": prompt}],\n",
    "        }\n",
    "    ]\n",
    ")\n",
    "\n",
    "response_text = response[\"output\"][\"message\"][\"content\"][0][\"text\"]\n",
    "print(response_text)"
   ]
  },
  {
   "cell_type": "code",
   "execution_count": null,
   "metadata": {},
   "outputs": [],
   "source": [
    "response = client.converse(\n",
    "    modelId=\"apac.anthropic.claude-3-haiku-20240307-v1:0\",\n",
    "    system=[{\"text\": \"入力がAIに関係するか回答してください。\"}],\n",
    "    messages=[\n",
    "        {\n",
    "            \"role\": \"user\",\n",
    "            \"content\": [{\"text\": \"AIの進化はすごい\"}],\n",
    "        },\n",
    "        {\n",
    "            \"role\": \"assistant\",\n",
    "            \"content\": [{\"text\": \"true\"}],\n",
    "        },\n",
    "        {\n",
    "            \"role\": \"user\",\n",
    "            \"content\": [{\"text\": \"今日は良い天気だ\"}],\n",
    "        },\n",
    "        {\n",
    "            \"role\": \"assistant\",\n",
    "            \"content\": [{\"text\": \"false\"}],\n",
    "        },\n",
    "        {\n",
    "            \"role\": \"user\",\n",
    "            \"content\": [{\"text\": \"ChatGPTはとても便利だ\"}],\n",
    "        },\n",
    "    ]\n",
    ")\n",
    "\n",
    "response_text = response[\"output\"][\"message\"][\"content\"][0][\"text\"]\n",
    "print(response_text)"
   ]
  },
  {
   "cell_type": "markdown",
   "metadata": {},
   "source": [
    "### Zero-shot Chain-of-Thought プロンプティング\n"
   ]
  },
  {
   "cell_type": "code",
   "execution_count": null,
   "metadata": {},
   "outputs": [],
   "source": [
    "response = client.converse(\n",
    "    modelId=\"apac.anthropic.claude-3-haiku-20240307-v1:0\",\n",
    "    system=[{\"text\": \"回答だけ一言で出力してください。\"}],\n",
    "    messages=[\n",
    "        {\n",
    "            \"role\": \"user\",\n",
    "            \"content\": [{\"text\": \"10 + 2 * 3 - 4 * 2\"}],\n",
    "        }\n",
    "    ]\n",
    ")\n",
    "\n",
    "response_text = response[\"output\"][\"message\"][\"content\"][0][\"text\"]\n",
    "print(response_text)"
   ]
  },
  {
   "cell_type": "code",
   "execution_count": null,
   "metadata": {},
   "outputs": [],
   "source": [
    "response = client.converse(\n",
    "    modelId=\"apac.anthropic.claude-3-haiku-20240307-v1:0\",\n",
    "    system=[{\"text\": \"ステップバイステップで考えてください。\"}],\n",
    "    messages=[\n",
    "        {\n",
    "            \"role\": \"user\",\n",
    "            \"content\": [{\"text\": \"10 + 2 * 3 - 4 * 2\"}],\n",
    "        }\n",
    "    ]\n",
    ")\n",
    "\n",
    "response_text = response[\"output\"][\"message\"][\"content\"][0][\"text\"]\n",
    "print(response_text)"
   ]
  },
  {
   "cell_type": "code",
   "execution_count": null,
   "metadata": {},
   "outputs": [],
   "source": []
  }
 ],
 "metadata": {
  "kernelspec": {
   "display_name": ".venv",
   "language": "python",
   "name": "python3"
  },
  "language_info": {
   "codemirror_mode": {
    "name": "ipython",
    "version": 3
   },
   "file_extension": ".py",
   "mimetype": "text/x-python",
   "name": "python",
   "nbconvert_exporter": "python",
   "pygments_lexer": "ipython3",
   "version": "3.11.9"
  }
 },
 "nbformat": 4,
 "nbformat_minor": 2
}
